{
 "cells": [
  {
   "cell_type": "markdown",
   "source": [
    "# Bài tập MLP"
   ],
   "metadata": {}
  },
  {
   "cell_type": "markdown",
   "source": [
    "## Sử dụng MLPClassifier để phân nhóm cho tập Titanic dataset\n",
    "- Huỳnh Minh Trí\n",
    "- Lớp Cao học HTTT-TDMU\n",
    "- dataset: 'Titanic_train.csv', 'Titanic_test.csv'\n"
   ],
   "metadata": {
    "_cell_guid": "e93323c0-07e0-6b2c-47d1-1f82bb4e9b56"
   }
  },
  {
   "cell_type": "code",
   "execution_count": 186,
   "source": [
    "import warnings\n",
    "import numpy as np\n",
    "import pandas as pd\n",
    "from sklearn.preprocessing import StandardScaler\n",
    "from sklearn.linear_model import Perceptron\n",
    "from sklearn.model_selection import train_test_split\n",
    "from sklearn.metrics import accuracy_score\n",
    "\n",
    "%matplotlib inline\n",
    "# Suppress warnings\n",
    "warnings.filterwarnings(\"ignore\")\n"
   ],
   "outputs": [],
   "metadata": {}
  },
  {
   "cell_type": "code",
   "execution_count": 187,
   "source": [
    "# Load the Titanic_train dataset\n",
    "train_raw = pd.read_csv('Titanic_train.csv')\n",
    "test_raw = pd.read_csv('Titanic_test.csv')\n",
    "test_ids = test_raw['PassengerId'].values\n",
    "\n",
    "# Kết hợp dữ liệu train và test.\n",
    "train_raw['train'] = 1\n",
    "test_raw['train'] = 0\n",
    "data = train_raw.append(test_raw, sort=False)"
   ],
   "outputs": [],
   "metadata": {}
  },
  {
   "cell_type": "markdown",
   "source": [
    "## 1) Khám Phá dữ liệu"
   ],
   "metadata": {}
  },
  {
   "cell_type": "code",
   "execution_count": 188,
   "source": [
    "data.shape"
   ],
   "outputs": [
    {
     "output_type": "execute_result",
     "data": {
      "text/plain": [
       "(1309, 13)"
      ]
     },
     "metadata": {},
     "execution_count": 188
    }
   ],
   "metadata": {}
  },
  {
   "cell_type": "code",
   "execution_count": 189,
   "source": [
    "data.head()"
   ],
   "outputs": [
    {
     "output_type": "execute_result",
     "data": {
      "text/plain": [
       "   PassengerId  Survived  Pclass  \\\n",
       "0            1       0.0       3   \n",
       "1            2       1.0       1   \n",
       "2            3       1.0       3   \n",
       "3            4       1.0       1   \n",
       "4            5       0.0       3   \n",
       "\n",
       "                                                Name     Sex   Age  SibSp  \\\n",
       "0                            Braund, Mr. Owen Harris    male  22.0      1   \n",
       "1  Cumings, Mrs. John Bradley (Florence Briggs Th...  female  38.0      1   \n",
       "2                             Heikkinen, Miss. Laina  female  26.0      0   \n",
       "3       Futrelle, Mrs. Jacques Heath (Lily May Peel)  female  35.0      1   \n",
       "4                           Allen, Mr. William Henry    male  35.0      0   \n",
       "\n",
       "   Parch            Ticket     Fare Cabin Embarked  train  \n",
       "0      0         A/5 21171   7.2500   NaN        S      1  \n",
       "1      0          PC 17599  71.2833   C85        C      1  \n",
       "2      0  STON/O2. 3101282   7.9250   NaN        S      1  \n",
       "3      0            113803  53.1000  C123        S      1  \n",
       "4      0            373450   8.0500   NaN        S      1  "
      ],
      "text/html": [
       "<div>\n",
       "<style scoped>\n",
       "    .dataframe tbody tr th:only-of-type {\n",
       "        vertical-align: middle;\n",
       "    }\n",
       "\n",
       "    .dataframe tbody tr th {\n",
       "        vertical-align: top;\n",
       "    }\n",
       "\n",
       "    .dataframe thead th {\n",
       "        text-align: right;\n",
       "    }\n",
       "</style>\n",
       "<table border=\"1\" class=\"dataframe\">\n",
       "  <thead>\n",
       "    <tr style=\"text-align: right;\">\n",
       "      <th></th>\n",
       "      <th>PassengerId</th>\n",
       "      <th>Survived</th>\n",
       "      <th>Pclass</th>\n",
       "      <th>Name</th>\n",
       "      <th>Sex</th>\n",
       "      <th>Age</th>\n",
       "      <th>SibSp</th>\n",
       "      <th>Parch</th>\n",
       "      <th>Ticket</th>\n",
       "      <th>Fare</th>\n",
       "      <th>Cabin</th>\n",
       "      <th>Embarked</th>\n",
       "      <th>train</th>\n",
       "    </tr>\n",
       "  </thead>\n",
       "  <tbody>\n",
       "    <tr>\n",
       "      <th>0</th>\n",
       "      <td>1</td>\n",
       "      <td>0.0</td>\n",
       "      <td>3</td>\n",
       "      <td>Braund, Mr. Owen Harris</td>\n",
       "      <td>male</td>\n",
       "      <td>22.0</td>\n",
       "      <td>1</td>\n",
       "      <td>0</td>\n",
       "      <td>A/5 21171</td>\n",
       "      <td>7.2500</td>\n",
       "      <td>NaN</td>\n",
       "      <td>S</td>\n",
       "      <td>1</td>\n",
       "    </tr>\n",
       "    <tr>\n",
       "      <th>1</th>\n",
       "      <td>2</td>\n",
       "      <td>1.0</td>\n",
       "      <td>1</td>\n",
       "      <td>Cumings, Mrs. John Bradley (Florence Briggs Th...</td>\n",
       "      <td>female</td>\n",
       "      <td>38.0</td>\n",
       "      <td>1</td>\n",
       "      <td>0</td>\n",
       "      <td>PC 17599</td>\n",
       "      <td>71.2833</td>\n",
       "      <td>C85</td>\n",
       "      <td>C</td>\n",
       "      <td>1</td>\n",
       "    </tr>\n",
       "    <tr>\n",
       "      <th>2</th>\n",
       "      <td>3</td>\n",
       "      <td>1.0</td>\n",
       "      <td>3</td>\n",
       "      <td>Heikkinen, Miss. Laina</td>\n",
       "      <td>female</td>\n",
       "      <td>26.0</td>\n",
       "      <td>0</td>\n",
       "      <td>0</td>\n",
       "      <td>STON/O2. 3101282</td>\n",
       "      <td>7.9250</td>\n",
       "      <td>NaN</td>\n",
       "      <td>S</td>\n",
       "      <td>1</td>\n",
       "    </tr>\n",
       "    <tr>\n",
       "      <th>3</th>\n",
       "      <td>4</td>\n",
       "      <td>1.0</td>\n",
       "      <td>1</td>\n",
       "      <td>Futrelle, Mrs. Jacques Heath (Lily May Peel)</td>\n",
       "      <td>female</td>\n",
       "      <td>35.0</td>\n",
       "      <td>1</td>\n",
       "      <td>0</td>\n",
       "      <td>113803</td>\n",
       "      <td>53.1000</td>\n",
       "      <td>C123</td>\n",
       "      <td>S</td>\n",
       "      <td>1</td>\n",
       "    </tr>\n",
       "    <tr>\n",
       "      <th>4</th>\n",
       "      <td>5</td>\n",
       "      <td>0.0</td>\n",
       "      <td>3</td>\n",
       "      <td>Allen, Mr. William Henry</td>\n",
       "      <td>male</td>\n",
       "      <td>35.0</td>\n",
       "      <td>0</td>\n",
       "      <td>0</td>\n",
       "      <td>373450</td>\n",
       "      <td>8.0500</td>\n",
       "      <td>NaN</td>\n",
       "      <td>S</td>\n",
       "      <td>1</td>\n",
       "    </tr>\n",
       "  </tbody>\n",
       "</table>\n",
       "</div>"
      ]
     },
     "metadata": {},
     "execution_count": 189
    }
   ],
   "metadata": {}
  },
  {
   "cell_type": "markdown",
   "source": [
    "## 2)Tiền Xử Lý"
   ],
   "metadata": {}
  },
  {
   "cell_type": "code",
   "execution_count": 190,
   "source": [
    "features = ['Age', 'Embarked', 'Fare', 'Parch', 'Pclass', 'Sex', 'SibSp']\n",
    "target = 'Survived'\n",
    "\n",
    "data = data[features + [target] + ['train']]\n",
    "# Chuyển các cột qua giá trị số\n",
    "data['Sex'] = data['Sex'].replace([\"female\", \"male\"], [0, 1])\n",
    "data['Embarked'] = data['Embarked'].replace(['S', 'C', 'Q'], [1, 2, 3])\n",
    "data['Age'] = pd.qcut(data['Age'].rank(method='first'), 10, labels=False)"
   ],
   "outputs": [],
   "metadata": {}
  },
  {
   "cell_type": "code",
   "execution_count": 191,
   "source": [
    "data.head()"
   ],
   "outputs": [
    {
     "output_type": "execute_result",
     "data": {
      "text/plain": [
       "   Age  Embarked     Fare  Parch  Pclass  Sex  SibSp  Survived  train\n",
       "0  2.0       1.0   7.2500      0       3    1      1       0.0      1\n",
       "1  7.0       2.0  71.2833      0       1    0      1       1.0      1\n",
       "2  4.0       1.0   7.9250      0       3    0      0       1.0      1\n",
       "3  6.0       1.0  53.1000      0       1    0      1       1.0      1\n",
       "4  6.0       1.0   8.0500      0       3    1      0       0.0      1"
      ],
      "text/html": [
       "<div>\n",
       "<style scoped>\n",
       "    .dataframe tbody tr th:only-of-type {\n",
       "        vertical-align: middle;\n",
       "    }\n",
       "\n",
       "    .dataframe tbody tr th {\n",
       "        vertical-align: top;\n",
       "    }\n",
       "\n",
       "    .dataframe thead th {\n",
       "        text-align: right;\n",
       "    }\n",
       "</style>\n",
       "<table border=\"1\" class=\"dataframe\">\n",
       "  <thead>\n",
       "    <tr style=\"text-align: right;\">\n",
       "      <th></th>\n",
       "      <th>Age</th>\n",
       "      <th>Embarked</th>\n",
       "      <th>Fare</th>\n",
       "      <th>Parch</th>\n",
       "      <th>Pclass</th>\n",
       "      <th>Sex</th>\n",
       "      <th>SibSp</th>\n",
       "      <th>Survived</th>\n",
       "      <th>train</th>\n",
       "    </tr>\n",
       "  </thead>\n",
       "  <tbody>\n",
       "    <tr>\n",
       "      <th>0</th>\n",
       "      <td>2.0</td>\n",
       "      <td>1.0</td>\n",
       "      <td>7.2500</td>\n",
       "      <td>0</td>\n",
       "      <td>3</td>\n",
       "      <td>1</td>\n",
       "      <td>1</td>\n",
       "      <td>0.0</td>\n",
       "      <td>1</td>\n",
       "    </tr>\n",
       "    <tr>\n",
       "      <th>1</th>\n",
       "      <td>7.0</td>\n",
       "      <td>2.0</td>\n",
       "      <td>71.2833</td>\n",
       "      <td>0</td>\n",
       "      <td>1</td>\n",
       "      <td>0</td>\n",
       "      <td>1</td>\n",
       "      <td>1.0</td>\n",
       "      <td>1</td>\n",
       "    </tr>\n",
       "    <tr>\n",
       "      <th>2</th>\n",
       "      <td>4.0</td>\n",
       "      <td>1.0</td>\n",
       "      <td>7.9250</td>\n",
       "      <td>0</td>\n",
       "      <td>3</td>\n",
       "      <td>0</td>\n",
       "      <td>0</td>\n",
       "      <td>1.0</td>\n",
       "      <td>1</td>\n",
       "    </tr>\n",
       "    <tr>\n",
       "      <th>3</th>\n",
       "      <td>6.0</td>\n",
       "      <td>1.0</td>\n",
       "      <td>53.1000</td>\n",
       "      <td>0</td>\n",
       "      <td>1</td>\n",
       "      <td>0</td>\n",
       "      <td>1</td>\n",
       "      <td>1.0</td>\n",
       "      <td>1</td>\n",
       "    </tr>\n",
       "    <tr>\n",
       "      <th>4</th>\n",
       "      <td>6.0</td>\n",
       "      <td>1.0</td>\n",
       "      <td>8.0500</td>\n",
       "      <td>0</td>\n",
       "      <td>3</td>\n",
       "      <td>1</td>\n",
       "      <td>0</td>\n",
       "      <td>0.0</td>\n",
       "      <td>1</td>\n",
       "    </tr>\n",
       "  </tbody>\n",
       "</table>\n",
       "</div>"
      ]
     },
     "metadata": {},
     "execution_count": 191
    }
   ],
   "metadata": {}
  },
  {
   "cell_type": "code",
   "execution_count": 192,
   "source": [
    "# Chia data thành tập train và test\n",
    "train = data.query('train == 1')\n",
    "test = data.query('train == 0')\n",
    "\n",
    "# Bỏ các giá trị bị thiếu ra khỏi tập train\n",
    "train.dropna(axis=0, inplace=True) ### X\n",
    "labels = train[target].values ### Y"
   ],
   "outputs": [],
   "metadata": {}
  },
  {
   "cell_type": "code",
   "execution_count": 193,
   "source": [
    "train.shape"
   ],
   "outputs": [
    {
     "output_type": "execute_result",
     "data": {
      "text/plain": [
       "(712, 9)"
      ]
     },
     "metadata": {},
     "execution_count": 193
    }
   ],
   "metadata": {}
  },
  {
   "cell_type": "code",
   "execution_count": 194,
   "source": [
    "train.head()"
   ],
   "outputs": [
    {
     "output_type": "execute_result",
     "data": {
      "text/plain": [
       "   Age  Embarked     Fare  Parch  Pclass  Sex  SibSp  Survived  train\n",
       "0  2.0       1.0   7.2500      0       3    1      1       0.0      1\n",
       "1  7.0       2.0  71.2833      0       1    0      1       1.0      1\n",
       "2  4.0       1.0   7.9250      0       3    0      0       1.0      1\n",
       "3  6.0       1.0  53.1000      0       1    0      1       1.0      1\n",
       "4  6.0       1.0   8.0500      0       3    1      0       0.0      1"
      ],
      "text/html": [
       "<div>\n",
       "<style scoped>\n",
       "    .dataframe tbody tr th:only-of-type {\n",
       "        vertical-align: middle;\n",
       "    }\n",
       "\n",
       "    .dataframe tbody tr th {\n",
       "        vertical-align: top;\n",
       "    }\n",
       "\n",
       "    .dataframe thead th {\n",
       "        text-align: right;\n",
       "    }\n",
       "</style>\n",
       "<table border=\"1\" class=\"dataframe\">\n",
       "  <thead>\n",
       "    <tr style=\"text-align: right;\">\n",
       "      <th></th>\n",
       "      <th>Age</th>\n",
       "      <th>Embarked</th>\n",
       "      <th>Fare</th>\n",
       "      <th>Parch</th>\n",
       "      <th>Pclass</th>\n",
       "      <th>Sex</th>\n",
       "      <th>SibSp</th>\n",
       "      <th>Survived</th>\n",
       "      <th>train</th>\n",
       "    </tr>\n",
       "  </thead>\n",
       "  <tbody>\n",
       "    <tr>\n",
       "      <th>0</th>\n",
       "      <td>2.0</td>\n",
       "      <td>1.0</td>\n",
       "      <td>7.2500</td>\n",
       "      <td>0</td>\n",
       "      <td>3</td>\n",
       "      <td>1</td>\n",
       "      <td>1</td>\n",
       "      <td>0.0</td>\n",
       "      <td>1</td>\n",
       "    </tr>\n",
       "    <tr>\n",
       "      <th>1</th>\n",
       "      <td>7.0</td>\n",
       "      <td>2.0</td>\n",
       "      <td>71.2833</td>\n",
       "      <td>0</td>\n",
       "      <td>1</td>\n",
       "      <td>0</td>\n",
       "      <td>1</td>\n",
       "      <td>1.0</td>\n",
       "      <td>1</td>\n",
       "    </tr>\n",
       "    <tr>\n",
       "      <th>2</th>\n",
       "      <td>4.0</td>\n",
       "      <td>1.0</td>\n",
       "      <td>7.9250</td>\n",
       "      <td>0</td>\n",
       "      <td>3</td>\n",
       "      <td>0</td>\n",
       "      <td>0</td>\n",
       "      <td>1.0</td>\n",
       "      <td>1</td>\n",
       "    </tr>\n",
       "    <tr>\n",
       "      <th>3</th>\n",
       "      <td>6.0</td>\n",
       "      <td>1.0</td>\n",
       "      <td>53.1000</td>\n",
       "      <td>0</td>\n",
       "      <td>1</td>\n",
       "      <td>0</td>\n",
       "      <td>1</td>\n",
       "      <td>1.0</td>\n",
       "      <td>1</td>\n",
       "    </tr>\n",
       "    <tr>\n",
       "      <th>4</th>\n",
       "      <td>6.0</td>\n",
       "      <td>1.0</td>\n",
       "      <td>8.0500</td>\n",
       "      <td>0</td>\n",
       "      <td>3</td>\n",
       "      <td>1</td>\n",
       "      <td>0</td>\n",
       "      <td>0.0</td>\n",
       "      <td>1</td>\n",
       "    </tr>\n",
       "  </tbody>\n",
       "</table>\n",
       "</div>"
      ]
     },
     "metadata": {},
     "execution_count": 194
    }
   ],
   "metadata": {}
  },
  {
   "cell_type": "code",
   "execution_count": 195,
   "source": [
    "# Split the data into 70% training data and 30% test data\n",
    "X_train, X_test, y_train, y_test = train_test_split(train, labels, test_size=0.3, random_state=0)"
   ],
   "outputs": [],
   "metadata": {}
  },
  {
   "cell_type": "code",
   "execution_count": 196,
   "source": [
    "X_train[:5]"
   ],
   "outputs": [
    {
     "output_type": "execute_result",
     "data": {
      "text/plain": [
       "     Age  Embarked      Fare  Parch  Pclass  Sex  SibSp  Survived  train\n",
       "202  6.0       1.0    6.4958      0       3    1      0       0.0      1\n",
       "439  5.0       1.0   10.5000      0       2    1      0       0.0      1\n",
       "102  2.0       1.0   77.2875      1       1    1      0       0.0      1\n",
       "118  3.0       2.0  247.5208      1       1    1      0       0.0      1\n",
       "625  9.0       1.0   32.3208      0       1    1      0       0.0      1"
      ],
      "text/html": [
       "<div>\n",
       "<style scoped>\n",
       "    .dataframe tbody tr th:only-of-type {\n",
       "        vertical-align: middle;\n",
       "    }\n",
       "\n",
       "    .dataframe tbody tr th {\n",
       "        vertical-align: top;\n",
       "    }\n",
       "\n",
       "    .dataframe thead th {\n",
       "        text-align: right;\n",
       "    }\n",
       "</style>\n",
       "<table border=\"1\" class=\"dataframe\">\n",
       "  <thead>\n",
       "    <tr style=\"text-align: right;\">\n",
       "      <th></th>\n",
       "      <th>Age</th>\n",
       "      <th>Embarked</th>\n",
       "      <th>Fare</th>\n",
       "      <th>Parch</th>\n",
       "      <th>Pclass</th>\n",
       "      <th>Sex</th>\n",
       "      <th>SibSp</th>\n",
       "      <th>Survived</th>\n",
       "      <th>train</th>\n",
       "    </tr>\n",
       "  </thead>\n",
       "  <tbody>\n",
       "    <tr>\n",
       "      <th>202</th>\n",
       "      <td>6.0</td>\n",
       "      <td>1.0</td>\n",
       "      <td>6.4958</td>\n",
       "      <td>0</td>\n",
       "      <td>3</td>\n",
       "      <td>1</td>\n",
       "      <td>0</td>\n",
       "      <td>0.0</td>\n",
       "      <td>1</td>\n",
       "    </tr>\n",
       "    <tr>\n",
       "      <th>439</th>\n",
       "      <td>5.0</td>\n",
       "      <td>1.0</td>\n",
       "      <td>10.5000</td>\n",
       "      <td>0</td>\n",
       "      <td>2</td>\n",
       "      <td>1</td>\n",
       "      <td>0</td>\n",
       "      <td>0.0</td>\n",
       "      <td>1</td>\n",
       "    </tr>\n",
       "    <tr>\n",
       "      <th>102</th>\n",
       "      <td>2.0</td>\n",
       "      <td>1.0</td>\n",
       "      <td>77.2875</td>\n",
       "      <td>1</td>\n",
       "      <td>1</td>\n",
       "      <td>1</td>\n",
       "      <td>0</td>\n",
       "      <td>0.0</td>\n",
       "      <td>1</td>\n",
       "    </tr>\n",
       "    <tr>\n",
       "      <th>118</th>\n",
       "      <td>3.0</td>\n",
       "      <td>2.0</td>\n",
       "      <td>247.5208</td>\n",
       "      <td>1</td>\n",
       "      <td>1</td>\n",
       "      <td>1</td>\n",
       "      <td>0</td>\n",
       "      <td>0.0</td>\n",
       "      <td>1</td>\n",
       "    </tr>\n",
       "    <tr>\n",
       "      <th>625</th>\n",
       "      <td>9.0</td>\n",
       "      <td>1.0</td>\n",
       "      <td>32.3208</td>\n",
       "      <td>0</td>\n",
       "      <td>1</td>\n",
       "      <td>1</td>\n",
       "      <td>0</td>\n",
       "      <td>0.0</td>\n",
       "      <td>1</td>\n",
       "    </tr>\n",
       "  </tbody>\n",
       "</table>\n",
       "</div>"
      ]
     },
     "metadata": {},
     "execution_count": 196
    }
   ],
   "metadata": {}
  },
  {
   "cell_type": "markdown",
   "source": [
    "## 3) Chuẩn bị dữ liệu"
   ],
   "metadata": {}
  },
  {
   "cell_type": "code",
   "execution_count": 197,
   "source": [
    "sc = StandardScaler()\n",
    "sc.fit(X_train)"
   ],
   "outputs": [
    {
     "output_type": "execute_result",
     "data": {
      "text/plain": [
       "StandardScaler()"
      ]
     },
     "metadata": {},
     "execution_count": 197
    }
   ],
   "metadata": {}
  },
  {
   "cell_type": "code",
   "execution_count": 198,
   "source": [
    "# Apply the scaler to the X training data\n",
    "X_train_std = sc.transform(X_train)\n",
    "\n",
    "# Apply the SAME scaler to the X test data\n",
    "X_test_std = sc.transform(X_test)"
   ],
   "outputs": [],
   "metadata": {}
  },
  {
   "cell_type": "code",
   "execution_count": 199,
   "source": [
    "X_train_std[:5]"
   ],
   "outputs": [
    {
     "output_type": "execute_result",
     "data": {
      "text/plain": [
       "array([[ 0.58024708, -0.51287764, -0.50843012, -0.50118147,  0.88208282,\n",
       "         0.73931309, -0.54307331, -0.81581361,  0.        ],\n",
       "       [ 0.23209883, -0.51287764, -0.43584459, -0.50118147, -0.32472279,\n",
       "         0.73931309, -0.54307331, -0.81581361,  0.        ],\n",
       "       [-0.81234592, -0.51287764,  0.77483576,  0.64899536, -1.5315284 ,\n",
       "         0.73931309, -0.54307331, -0.81581361,  0.        ],\n",
       "       [-0.46419767,  1.42206983,  3.86071427,  0.64899536, -1.5315284 ,\n",
       "         0.73931309, -0.54307331, -0.81581361,  0.        ],\n",
       "       [ 1.62469184, -0.51287764, -0.04029132, -0.50118147, -1.5315284 ,\n",
       "         0.73931309, -0.54307331, -0.81581361,  0.        ]])"
      ]
     },
     "metadata": {},
     "execution_count": 199
    }
   ],
   "metadata": {}
  },
  {
   "cell_type": "code",
   "execution_count": 200,
   "source": [
    "X_test_std[:5]"
   ],
   "outputs": [
    {
     "output_type": "execute_result",
     "data": {
      "text/plain": [
       "array([[-0.11604942, -0.51287764, -0.36514792,  0.64899536,  0.88208282,\n",
       "        -1.35260691,  0.49712096, -0.81581361,  0.        ],\n",
       "       [ 0.23209883, -0.51287764, -0.39052621, -0.50118147, -0.32472279,\n",
       "         0.73931309, -0.54307331, -0.81581361,  0.        ],\n",
       "       [-1.50864242, -0.51287764,  2.12101805,  1.79917218, -1.5315284 ,\n",
       "         0.73931309,  0.49712096,  1.22577019,  0.        ],\n",
       "       [ 0.58024708,  1.42206983, -0.39279213, -0.50118147, -0.32472279,\n",
       "         0.73931309, -0.54307331, -0.81581361,  0.        ],\n",
       "       [ 1.27654358, -0.51287764, -0.49475847, -0.50118147,  0.88208282,\n",
       "         0.73931309, -0.54307331, -0.81581361,  0.        ]])"
      ]
     },
     "metadata": {},
     "execution_count": 200
    }
   ],
   "metadata": {}
  },
  {
   "cell_type": "markdown",
   "source": [
    "## 4) Xây dựng model Perceptron"
   ],
   "metadata": {}
  },
  {
   "cell_type": "code",
   "execution_count": 201,
   "source": [
    "# Create a perceptron object \n",
    "perceptron = Perceptron()"
   ],
   "outputs": [],
   "metadata": {}
  },
  {
   "cell_type": "code",
   "execution_count": 202,
   "source": [
    "# Train the perceptron\n",
    "perceptron.fit(X_train_std, y_train)"
   ],
   "outputs": [
    {
     "output_type": "execute_result",
     "data": {
      "text/plain": [
       "Perceptron()"
      ]
     },
     "metadata": {},
     "execution_count": 202
    }
   ],
   "metadata": {}
  },
  {
   "cell_type": "code",
   "execution_count": 203,
   "source": [
    "# Apply the trained perceptron on the X data to make predicts for the y test data\n",
    "y_pred = perceptron.predict(X_test_std)"
   ],
   "outputs": [],
   "metadata": {}
  },
  {
   "cell_type": "markdown",
   "source": [],
   "metadata": {}
  },
  {
   "cell_type": "code",
   "execution_count": 177,
   "source": [
    "score = perceptron.score(X_train, y_train)\n",
    "print(\"Accuracy score (train): %.2f\" % score)"
   ],
   "outputs": [
    {
     "output_type": "stream",
     "name": "stdout",
     "text": [
      "Accuracy score (train): 0.83\n"
     ]
    }
   ],
   "metadata": {}
  },
  {
   "cell_type": "code",
   "execution_count": 178,
   "source": [
    "# View the accuracy of the model, which is: 1 - (observations predicted wrong / total observations)\n",
    "print('Accuracy score (test): %.2f' % accuracy_score(y_test, y_pred))"
   ],
   "outputs": [
    {
     "output_type": "stream",
     "name": "stdout",
     "text": [
      "Accuracy score (test): 1.00\n"
     ]
    }
   ],
   "metadata": {}
  },
  {
   "cell_type": "markdown",
   "source": [
    "## 5) Xây dựng model MLPClassifier"
   ],
   "metadata": {}
  },
  {
   "cell_type": "code",
   "execution_count": 179,
   "source": [
    "from sklearn.neural_network import MLPClassifier\n",
    "\n",
    "clf = MLPClassifier(hidden_layer_sizes=(8,5 ), activation='tanh', solver='sgd', \n",
    "                    alpha=0.0000001, batch_size=4, learning_rate='constant', learning_rate_init=0.005, \n",
    "                    power_t=0.5, max_iter=500, shuffle=True, random_state=11, tol=0.00001, \n",
    "                    verbose=True, warm_start=False, momentum=0.8, nesterovs_momentum=True, \n",
    "                    early_stopping=False, validation_fraction=0.2, \n",
    "                    beta_1=0.9, beta_2=0.999, epsilon=1e-08)"
   ],
   "outputs": [],
   "metadata": {}
  },
  {
   "cell_type": "code",
   "execution_count": 180,
   "source": [
    "# Train the perceptron\n",
    "clf.fit(X_train_std, y_train)"
   ],
   "outputs": [
    {
     "output_type": "stream",
     "name": "stdout",
     "text": [
      "Iteration 1, loss = 0.35359073\n",
      "Iteration 2, loss = 0.10952470\n",
      "Iteration 3, loss = 0.05548211\n",
      "Iteration 4, loss = 0.03542505\n",
      "Iteration 5, loss = 0.02547519\n",
      "Iteration 6, loss = 0.01966151\n",
      "Iteration 7, loss = 0.01590180\n",
      "Iteration 8, loss = 0.01328377\n",
      "Iteration 9, loss = 0.01137288\n",
      "Iteration 10, loss = 0.00991996\n",
      "Iteration 11, loss = 0.00878333\n",
      "Iteration 12, loss = 0.00786857\n",
      "Iteration 13, loss = 0.00711669\n",
      "Iteration 14, loss = 0.00649078\n",
      "Iteration 15, loss = 0.00596318\n",
      "Iteration 16, loss = 0.00551071\n",
      "Iteration 17, loss = 0.00511935\n",
      "Iteration 18, loss = 0.00477610\n",
      "Iteration 19, loss = 0.00447619\n",
      "Iteration 20, loss = 0.00421056\n",
      "Iteration 21, loss = 0.00397316\n",
      "Iteration 22, loss = 0.00376009\n",
      "Iteration 23, loss = 0.00356847\n",
      "Iteration 24, loss = 0.00339443\n",
      "Iteration 25, loss = 0.00323599\n",
      "Iteration 26, loss = 0.00309150\n",
      "Iteration 27, loss = 0.00295853\n",
      "Iteration 28, loss = 0.00283646\n",
      "Iteration 29, loss = 0.00272370\n",
      "Iteration 30, loss = 0.00261927\n",
      "Iteration 31, loss = 0.00252241\n",
      "Iteration 32, loss = 0.00243206\n",
      "Iteration 33, loss = 0.00234753\n",
      "Iteration 34, loss = 0.00226864\n",
      "Iteration 35, loss = 0.00219492\n",
      "Iteration 36, loss = 0.00212572\n",
      "Iteration 37, loss = 0.00206060\n",
      "Iteration 38, loss = 0.00199925\n",
      "Iteration 39, loss = 0.00194131\n",
      "Iteration 40, loss = 0.00188668\n",
      "Iteration 41, loss = 0.00183485\n",
      "Iteration 42, loss = 0.00178572\n",
      "Iteration 43, loss = 0.00173907\n",
      "Iteration 44, loss = 0.00169475\n",
      "Iteration 45, loss = 0.00165253\n",
      "Iteration 46, loss = 0.00161234\n",
      "Iteration 47, loss = 0.00157409\n",
      "Iteration 48, loss = 0.00153752\n",
      "Iteration 49, loss = 0.00150254\n",
      "Iteration 50, loss = 0.00146908\n",
      "Iteration 51, loss = 0.00143700\n",
      "Iteration 52, loss = 0.00140632\n",
      "Iteration 53, loss = 0.00137688\n",
      "Iteration 54, loss = 0.00134865\n",
      "Iteration 55, loss = 0.00132153\n",
      "Iteration 56, loss = 0.00129540\n",
      "Iteration 57, loss = 0.00127033\n",
      "Iteration 58, loss = 0.00124614\n",
      "Iteration 59, loss = 0.00122287\n",
      "Iteration 60, loss = 0.00120032\n",
      "Iteration 61, loss = 0.00117863\n",
      "Iteration 62, loss = 0.00115774\n",
      "Iteration 63, loss = 0.00113749\n",
      "Iteration 64, loss = 0.00111796\n",
      "Iteration 65, loss = 0.00109914\n",
      "Iteration 66, loss = 0.00108090\n",
      "Iteration 67, loss = 0.00106324\n",
      "Iteration 68, loss = 0.00104614\n",
      "Iteration 69, loss = 0.00102949\n",
      "Iteration 70, loss = 0.00101342\n",
      "Iteration 71, loss = 0.00099787\n",
      "Iteration 72, loss = 0.00098275\n",
      "Iteration 73, loss = 0.00096809\n",
      "Iteration 74, loss = 0.00095383\n",
      "Iteration 75, loss = 0.00093997\n",
      "Iteration 76, loss = 0.00092652\n",
      "Iteration 77, loss = 0.00091343\n",
      "Iteration 78, loss = 0.00090071\n",
      "Iteration 79, loss = 0.00088835\n",
      "Iteration 80, loss = 0.00087629\n",
      "Iteration 81, loss = 0.00086456\n",
      "Iteration 82, loss = 0.00085315\n",
      "Iteration 83, loss = 0.00084201\n",
      "Iteration 84, loss = 0.00083116\n",
      "Iteration 85, loss = 0.00082060\n",
      "Iteration 86, loss = 0.00081027\n",
      "Iteration 87, loss = 0.00080022\n",
      "Iteration 88, loss = 0.00079040\n",
      "Iteration 89, loss = 0.00078082\n",
      "Iteration 90, loss = 0.00077146\n",
      "Iteration 91, loss = 0.00076232\n",
      "Iteration 92, loss = 0.00075339\n",
      "Iteration 93, loss = 0.00074466\n",
      "Iteration 94, loss = 0.00073613\n",
      "Iteration 95, loss = 0.00072780\n",
      "Iteration 96, loss = 0.00071964\n",
      "Iteration 97, loss = 0.00071165\n",
      "Iteration 98, loss = 0.00070385\n",
      "Training loss did not improve more than tol=0.000010 for 10 consecutive epochs. Stopping.\n"
     ]
    },
    {
     "output_type": "execute_result",
     "data": {
      "text/plain": [
       "MLPClassifier(activation='tanh', alpha=1e-07, batch_size=4,\n",
       "              hidden_layer_sizes=(8, 5), learning_rate_init=0.005, max_iter=500,\n",
       "              momentum=0.8, random_state=11, solver='sgd', tol=1e-05,\n",
       "              validation_fraction=0.2, verbose=True)"
      ]
     },
     "metadata": {},
     "execution_count": 180
    }
   ],
   "metadata": {}
  },
  {
   "cell_type": "code",
   "execution_count": 181,
   "source": [
    "clf.classes_ "
   ],
   "outputs": [
    {
     "output_type": "execute_result",
     "data": {
      "text/plain": [
       "array([0., 1.])"
      ]
     },
     "metadata": {},
     "execution_count": 181
    }
   ],
   "metadata": {}
  },
  {
   "cell_type": "code",
   "execution_count": 182,
   "source": [
    "clf.n_layers_ "
   ],
   "outputs": [
    {
     "output_type": "execute_result",
     "data": {
      "text/plain": [
       "4"
      ]
     },
     "metadata": {},
     "execution_count": 182
    }
   ],
   "metadata": {}
  },
  {
   "cell_type": "code",
   "execution_count": 183,
   "source": [
    "clf.n_outputs_ "
   ],
   "outputs": [
    {
     "output_type": "execute_result",
     "data": {
      "text/plain": [
       "1"
      ]
     },
     "metadata": {},
     "execution_count": 183
    }
   ],
   "metadata": {}
  },
  {
   "cell_type": "code",
   "execution_count": 184,
   "source": [
    "clf.out_activation_ "
   ],
   "outputs": [
    {
     "output_type": "execute_result",
     "data": {
      "text/plain": [
       "'logistic'"
      ]
     },
     "metadata": {},
     "execution_count": 184
    }
   ],
   "metadata": {}
  },
  {
   "cell_type": "code",
   "execution_count": 185,
   "source": [
    "# Evaluate acuracy on test data\n",
    "score = clf.score(X_test_std,y_test)\n",
    "print(\"Acuracy (on test set) = \", score)"
   ],
   "outputs": [
    {
     "output_type": "stream",
     "name": "stdout",
     "text": [
      "Acuracy (on test set) =  1.0\n"
     ]
    }
   ],
   "metadata": {}
  }
 ],
 "metadata": {
  "kernelspec": {
   "name": "python3",
   "display_name": "Python 3.9.5 64-bit"
  },
  "language_info": {
   "codemirror_mode": {
    "name": "ipython",
    "version": 3
   },
   "file_extension": ".py",
   "mimetype": "text/x-python",
   "name": "python",
   "nbconvert_exporter": "python",
   "pygments_lexer": "ipython3",
   "version": "3.9.5"
  },
  "interpreter": {
   "hash": "aee8b7b246df8f9039afb4144a1f6fd8d2ca17a180786b69acc140d282b71a49"
  }
 },
 "nbformat": 4,
 "nbformat_minor": 2
}